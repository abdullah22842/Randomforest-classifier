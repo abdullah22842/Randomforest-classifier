{
 "cells": [
  {
   "cell_type": "markdown",
   "id": "b1dc2154",
   "metadata": {},
   "source": [
    "# 2 Introduction to randomforest"
   ]
  },
  {
   "cell_type": "code",
   "execution_count": 39,
   "id": "94eb8ce6",
   "metadata": {},
   "outputs": [],
   "source": [
    "import pandas as pd\n",
    "from matplotlib import pyplot as plt\n",
    "import numpy"
   ]
  },
  {
   "cell_type": "code",
   "execution_count": 40,
   "id": "0a1016a4",
   "metadata": {},
   "outputs": [],
   "source": [
    "df=pd.read_csv(\"image_analyzed_production.csv\")"
   ]
  },
  {
   "cell_type": "code",
   "execution_count": 47,
   "id": "6136d153",
   "metadata": {},
   "outputs": [
    {
     "name": "stdout",
     "output_type": "stream",
     "text": [
      "   Time  Coffee  Age Productivity\n",
      "0     5       0   23         Good\n",
      "1     6       0   23         Good\n",
      "2     7       0   23          Bad\n",
      "3     5       0   23         Good\n",
      "4     6       0   23         Good\n"
     ]
    }
   ],
   "source": [
    "print(df.head())"
   ]
  },
  {
   "cell_type": "code",
   "execution_count": 42,
   "id": "df3fe0e3",
   "metadata": {},
   "outputs": [],
   "source": [
    "# sizes=df['Productivity'].value_counts(sort=1)"
   ]
  },
  {
   "cell_type": "code",
   "execution_count": 43,
   "id": "c7f9d60b",
   "metadata": {},
   "outputs": [],
   "source": [
    "# print(sizes)"
   ]
  },
  {
   "cell_type": "code",
   "execution_count": 44,
   "id": "0cc7350d",
   "metadata": {},
   "outputs": [],
   "source": [
    "#Drop the irrelevant columns\n",
    "df.drop(['Image An'], axis=1, inplace=True)\n",
    "df.drop(['user'], axis=1, inplace=True)"
   ]
  },
  {
   "cell_type": "code",
   "execution_count": 45,
   "id": "4000485d",
   "metadata": {},
   "outputs": [],
   "source": [
    "#handling missing values\n",
    "df=df.dropna()"
   ]
  },
  {
   "cell_type": "code",
   "execution_count": 53,
   "id": "fb2de3bc",
   "metadata": {},
   "outputs": [
    {
     "name": "stderr",
     "output_type": "stream",
     "text": [
      "C:\\Users\\2109902\\AppData\\Local\\Temp\\ipykernel_2136\\2869134835.py:2: SettingWithCopyWarning: \n",
      "A value is trying to be set on a copy of a slice from a DataFrame\n",
      "\n",
      "See the caveats in the documentation: https://pandas.pydata.org/pandas-docs/stable/user_guide/indexing.html#returning-a-view-versus-a-copy\n",
      "  df.Productivity[df.Productivity== 'Good']=1\n",
      "C:\\Users\\2109902\\AppData\\Local\\Temp\\ipykernel_2136\\2869134835.py:3: SettingWithCopyWarning: \n",
      "A value is trying to be set on a copy of a slice from a DataFrame\n",
      "\n",
      "See the caveats in the documentation: https://pandas.pydata.org/pandas-docs/stable/user_guide/indexing.html#returning-a-view-versus-a-copy\n",
      "  df.Productivity[df.Productivity== 'Bad']=2\n"
     ]
    }
   ],
   "source": [
    "#Convert non-numeric data to numeric\n",
    "df.Productivity[df.Productivity== 'Good']=1\n",
    "df.Productivity[df.Productivity== 'Bad']=2"
   ]
  },
  {
   "cell_type": "code",
   "execution_count": 55,
   "id": "e07c65d9",
   "metadata": {},
   "outputs": [],
   "source": [
    "#Define dependent variable\n",
    "Y=df['Productivity'].values\n",
    "Y=Y.astype('int')"
   ]
  },
  {
   "cell_type": "code",
   "execution_count": 57,
   "id": "b9e8c75d",
   "metadata": {},
   "outputs": [],
   "source": [
    "#Define Indepenent variable\n",
    "\n",
    "X=df.drop(labels=['Productivity'], axis=1)\n"
   ]
  },
  {
   "cell_type": "code",
   "execution_count": 61,
   "id": "55093c8d",
   "metadata": {},
   "outputs": [],
   "source": [
    "#Split data into train and test datset\n",
    "from sklearn.model_selection import train_test_split\n",
    "X_train, X_test,Y_train, Y_test=train_test_split(X,Y, test_size=0.3,random_state=20)\n"
   ]
  },
  {
   "cell_type": "code",
   "execution_count": 68,
   "id": "64655f56",
   "metadata": {},
   "outputs": [
    {
     "name": "stdout",
     "output_type": "stream",
     "text": [
      "[1 2 2 1 1 2 1 2 1 2 1 1 1 1 1]\n"
     ]
    }
   ],
   "source": [
    "#Random forest model\n",
    "from sklearn.ensemble import RandomForestClassifier\n",
    "model=RandomForestClassifier(n_estimators=10,random_state=30, )\n",
    "model.fit(X_train,Y_train)\n",
    "prediction_test=model.predict(X_test)\n",
    "# print(prediction_test)"
   ]
  },
  {
   "cell_type": "code",
   "execution_count": 75,
   "id": "d0d01626",
   "metadata": {},
   "outputs": [
    {
     "name": "stdout",
     "output_type": "stream",
     "text": [
      "Accuracy =  0.5333333333333333\n"
     ]
    }
   ],
   "source": [
    "from sklearn.metrics import accuracy_score\n",
    "print (\"Accuracy = \", metrics.accuracy_score(Y_test, prediction_test))"
   ]
  },
  {
   "cell_type": "code",
   "execution_count": 76,
   "id": "1d0890e8",
   "metadata": {},
   "outputs": [
    {
     "name": "stdout",
     "output_type": "stream",
     "text": [
      "Coffee    0.431517\n",
      "Time      0.411169\n",
      "Age       0.157314\n",
      "dtype: float64\n"
     ]
    }
   ],
   "source": [
    "#Test accuracy for various test sizes and see how it gets better with more training data\n",
    "\n",
    "#One amazing feature of Random forest is that it provides us info on feature importances\n",
    "# Get numerical feature importances\n",
    "#importances = list(model.feature_importances_)\n",
    "\n",
    "#Let us print them into a nice format.\n",
    "\n",
    "feature_list = list(X.columns)\n",
    "feature_imp = pd.Series(model.feature_importances_,index=feature_list).sort_values(ascending=False)\n",
    "print(feature_imp)\n"
   ]
  },
  {
   "cell_type": "code",
   "execution_count": null,
   "id": "0b200c13",
   "metadata": {},
   "outputs": [],
   "source": []
  }
 ],
 "metadata": {
  "kernelspec": {
   "display_name": "Python 3 (ipykernel)",
   "language": "python",
   "name": "python3"
  },
  "language_info": {
   "codemirror_mode": {
    "name": "ipython",
    "version": 3
   },
   "file_extension": ".py",
   "mimetype": "text/x-python",
   "name": "python",
   "nbconvert_exporter": "python",
   "pygments_lexer": "ipython3",
   "version": "3.8.6"
  }
 },
 "nbformat": 4,
 "nbformat_minor": 5
}
